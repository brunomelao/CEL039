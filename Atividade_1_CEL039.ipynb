{
  "nbformat": 4,
  "nbformat_minor": 0,
  "metadata": {
    "colab": {
      "provenance": [],
      "include_colab_link": true
    },
    "kernelspec": {
      "name": "python3",
      "display_name": "Python 3"
    },
    "language_info": {
      "name": "python"
    }
  },
  "cells": [
    {
      "cell_type": "markdown",
      "metadata": {
        "id": "view-in-github",
        "colab_type": "text"
      },
      "source": [
        "<a href=\"https://colab.research.google.com/github/brunomelao/CEL039/blob/main/Atividade_1_CEL039.ipynb\" target=\"_parent\"><img src=\"https://colab.research.google.com/assets/colab-badge.svg\" alt=\"Open In Colab\"/></a>"
      ]
    },
    {
      "cell_type": "markdown",
      "source": [
        "# **Atividade 1: Python**\n",
        "\n",
        "## Questão 1\n",
        "\n",
        "Usando python faça o que se pede:\n",
        "\n",
        "\n",
        "1.   Utilize a biblioteca *numpy* para a criação dos vetores \"x_lin\" e \"x_log\" com inicio e fim ([inicio, fim]) de $[0, 1000]$ e $[10^{-2}, 10^5]$, respectivamente espaçadas de forma linear e logaritmica. Os vetores devem conter 100 pontos cada. \n",
        "2.   Utilize os vetores criados anteriormente para criar dados da forma: $f1 = 10 sin(x_lin)$ e $f2 = 10 cos(20 x_log + 10)$. \n",
        "\n",
        "3.   Crie dois gráficos linha, um na cor vermelha e a outra na cor azul, utilizando a biblioteca plotly que represente f1 por x_lin e f2 por x_log. Utilize a escala linear para o eixo_x do primeiro gráfico. E Logaritmica para o eixo x do segundo gráfico. O eixo y deve possuir escalar linear em ambos os gráficos. \n",
        "\n",
        "4. Questão Extra: Dado a tabela:\n",
        "\n",
        "|  Base | x1 | x2 | s1 | s2 |  b |\n",
        "|:-----:|:--:|:--:|:--:|:--:|:--:|\n",
        "|   s1  |  2 |  3 |  1 |  0 | 20 |\n",
        "|   s2  |  4 | -1 |  0 |  1 | 12 |\n",
        "| **Z** |  1 |  3 |  0 |  0 |  0 |\n",
        "\n",
        "Utilize a biblioteca pandas para a criação dessa Tabela. Além disso utilize o comando display para imprimi-la. Utilize o pandas para as seguintes questões:\n",
        "\n",
        "\n",
        "*   Exporte esta tabela para um arquivo excel (extensão .xls ou .xlsx).\n",
        "\n",
        " \n",
        "\n",
        "\n",
        "\n",
        "\n",
        "\n",
        "\n"
      ],
      "metadata": {
        "id": "TYfKEaXsighW"
      }
    },
    {
      "cell_type": "markdown",
      "source": [
        "## Item 1"
      ],
      "metadata": {
        "id": "jeKr9dnSsCAO"
      }
    },
    {
      "cell_type": "code",
      "source": [
        "import numpy as np\n",
        "from plotly import graph_objects as go \n",
        "from plotly.subplots import make_subplots\n",
        "\n",
        "x_lin=np.linspace(0,1000,100);\n",
        "x_log=np.logspace(-2,5,100);\n"
      ],
      "metadata": {
        "id": "q26KzwWuj3Pb"
      },
      "execution_count": null,
      "outputs": []
    },
    {
      "cell_type": "markdown",
      "source": [
        "## Item 2"
      ],
      "metadata": {
        "id": "9kmy1fwDsMc1"
      }
    },
    {
      "cell_type": "code",
      "source": [
        "f1=10*np.sin(x_lin)\n",
        "f2=10*np.cos(20*x_log+10)"
      ],
      "metadata": {
        "id": "XZfVW0r3sPTV"
      },
      "execution_count": null,
      "outputs": []
    },
    {
      "cell_type": "markdown",
      "source": [
        "## Item 3"
      ],
      "metadata": {
        "id": "nbxTmGwssYuE"
      }
    },
    {
      "cell_type": "code",
      "source": [
        "grafico=make_subplots(rows=2,cols=1)\n",
        "\n",
        "grafico.add_trace(go.Scatter(y=f1,x=x_lin,name=\"Linear\"),row=1,col=1)\n",
        "grafico.add_trace(go.Scatter(y=f2,x=x_log,name=\"Log\"),row=2,col=1)\n",
        "grafico.update_xaxes(type=\"linear\",title=\"Linear\",row=1,col=1)\n",
        "grafico.update_xaxes(type=\"log\",title=\"Logaritmica\",row=2,col=1)\n",
        "grafico.update_yaxes(title=\"F1\",row=1,col=1)\n",
        "grafico.update_yaxes(title=\"F2\",row=2,col=1)\n",
        "\n",
        "grafico.show()\n"
      ],
      "metadata": {
        "colab": {
          "base_uri": "https://localhost:8080/",
          "height": 542
        },
        "id": "m3eoMK0-sail",
        "outputId": "b6b4aa43-d6d9-48a0-c861-ff3eecf79438"
      },
      "execution_count": null,
      "outputs": [
        {
          "output_type": "display_data",
          "data": {
            "text/html": [
              "<html>\n",
              "<head><meta charset=\"utf-8\" /></head>\n",
              "<body>\n",
              "    <div>            <script src=\"https://cdnjs.cloudflare.com/ajax/libs/mathjax/2.7.5/MathJax.js?config=TeX-AMS-MML_SVG\"></script><script type=\"text/javascript\">if (window.MathJax && window.MathJax.Hub && window.MathJax.Hub.Config) {window.MathJax.Hub.Config({SVG: {font: \"STIX-Web\"}});}</script>                <script type=\"text/javascript\">window.PlotlyConfig = {MathJaxConfig: 'local'};</script>\n",
              "        <script src=\"https://cdn.plot.ly/plotly-2.18.2.min.js\"></script>                <div id=\"928e10f2-974f-4bd7-99dc-3bb40410bdc3\" class=\"plotly-graph-div\" style=\"height:525px; width:100%;\"></div>            <script type=\"text/javascript\">                                    window.PLOTLYENV=window.PLOTLYENV || {};                                    if (document.getElementById(\"928e10f2-974f-4bd7-99dc-3bb40410bdc3\")) {                    Plotly.newPlot(                        \"928e10f2-974f-4bd7-99dc-3bb40410bdc3\",                        [{\"name\":\"Linear\",\"x\":[0.0,10.1010101010101,20.2020202020202,30.3030303030303,40.4040404040404,50.505050505050505,60.6060606060606,70.7070707070707,80.8080808080808,90.9090909090909,101.01010101010101,111.1111111111111,121.2121212121212,131.3131313131313,141.4141414141414,151.5151515151515,161.6161616161616,171.7171717171717,181.8181818181818,191.91919191919192,202.02020202020202,212.1212121212121,222.2222222222222,232.3232323232323,242.4242424242424,252.5252525252525,262.6262626262626,272.7272727272727,282.8282828282828,292.9292929292929,303.030303030303,313.1313131313131,323.2323232323232,333.3333333333333,343.4343434343434,353.5353535353535,363.6363636363636,373.73737373737373,383.83838383838383,393.93939393939394,404.04040404040404,414.1414141414141,424.2424242424242,434.3434343434343,444.4444444444444,454.5454545454545,464.6464646464646,474.7474747474747,484.8484848484848,494.9494949494949,505.050505050505,515.1515151515151,525.2525252525252,535.3535353535353,545.4545454545454,555.5555555555555,565.6565656565656,575.7575757575758,585.8585858585858,595.959595959596,606.060606060606,616.1616161616162,626.2626262626262,636.3636363636364,646.4646464646464,656.5656565656565,666.6666666666666,676.7676767676767,686.8686868686868,696.9696969696969,707.070707070707,717.1717171717171,727.2727272727273,737.3737373737373,747.4747474747475,757.5757575757575,767.6767676767677,777.7777777777777,787.8787878787879,797.9797979797979,808.0808080808081,818.1818181818181,828.2828282828282,838.3838383838383,848.4848484848484,858.5858585858585,868.6868686868686,878.7878787878788,888.8888888888888,898.989898989899,909.090909090909,919.1919191919192,929.2929292929292,939.3939393939394,949.4949494949494,959.5959595959596,969.6969696969696,979.7979797979797,989.8989898989898,1000.0],\"y\":[0.0,-6.258587825850162,9.762600885592091,-8.969827705478883,4.229189329354894,2.3728303250853298,-7.930502800959132,9.99774524598088,-7.664708021073011,1.958224278848382,4.61012724169788,-9.149436345346428,9.661829604352224,-5.921788805844347,-0.4245923474999861,6.5840988577378665,-9.845764341254466,8.774041085629422,-3.8406236517351995,-2.783156734883308,8.181994127114352,-9.979713314068231,7.385089174883395,-1.540086379579001,-4.982750329199169,9.312543063114651,-9.54363224860353,5.574309248385221,0.8484189003020297,-6.8977348098562725,9.91116997774246,-8.56242960651802,3.4451310258401664,3.1884634435874615,-8.418728409818158,9.94368197263275,-7.092150582901507,1.119170780732792,5.346386528911174,-9.458853679530435,9.408221999079844,-5.216775867553536,-1.2707152448953973,7.198930008446491,-9.958699829459364,8.335374930578448,-3.0434247621138355,-3.588019440075392,8.640278675151851,-9.889716207796805,6.786420589130837,-0.696236645624909,-5.700379986634539,9.588104308786553,-9.255843081688687,4.849833510503931,1.6907197276526642,-7.487141217891292,9.988268171571338,-8.093286573591804,2.636229377916689,3.9811040852088264,-8.846245335088188,9.817913352206105,-6.4684506081447495,0.27204677820194534,6.044092239820589,-9.70006183446631,9.086770327023112,-4.474143994421212,-2.107674828548645,7.761848620492923,-9.99982167462073,7.836601166085538,-2.224279290785561,-4.367008411575793,9.036256908188658,-9.728402909481167,6.138814130555562,0.15263375275286967,-6.376903369097092,9.79452432999263,-8.901308674680443,4.090384912861477,2.520828527420627,-8.022556754020348,9.993339500711064,-7.565781665822976,1.8083174938410418,4.745036402189862,-9.209970689606147,9.621346320643358,-5.798105688669012,-0.577038993492791,6.698213116357477,-9.871321422821605,8.699792623269644,-3.699248413652045,-2.9294356603179263,8.268795405320025],\"type\":\"scatter\",\"xaxis\":\"x\",\"yaxis\":\"y\"},{\"name\":\"Log\",\"x\":[0.01,0.011768119524349984,0.013848863713938732,0.016297508346206444,0.019179102616724886,0.022570197196339202,0.026560877829466867,0.031257158496882355,0.03678379771828634,0.04328761281083057,0.0509413801481638,0.05994842503189409,0.07054802310718641,0.08302175681319744,0.09770099572992251,0.11497569953977356,0.1353047774579807,0.1592282793341092,0.1873817422860384,0.22051307399030456,0.25950242113997357,0.30538555088334157,0.35938136638046275,0.4229242874389499,0.49770235643321087,0.5857020818056664,0.6892612104349695,0.8111308307896868,0.9545484566618337,1.1233240329780276,1.3219411484660286,1.5556761439304723,1.8307382802953678,2.154434690031882,2.5353644939701114,2.983647240283337,3.511191734215131,4.132012400115334,4.862601580065354,5.722367659350215,6.7341506577508214,7.92482898353917,9.326033468832199,10.974987654930557,12.91549665014884,15.199110829529332,17.886495290574352,21.049041445120196,24.77076355991709,29.150530628251758,34.30469286314916,40.37017258596554,47.50810162102793,55.90810182512222,65.79332246575676,77.4263682681127,91.11627561154887,107.22672220103232,126.1856883066021,148.49682622544634,174.7528400007683,205.65123083486515,242.01282647943833,284.8035868435799,335.1602650938841,394.4206059437656,464.1588833612773,546.2277217684338,642.807311728432,756.463327554629,890.2150854450374,1047.6157527896642,1232.8467394420659,1450.8287784959402,1707.3526474706887,2009.2330025650458,2364.4894126454074,2782.559402207126,3274.549162877725,3853.5285937105273,4534.878508128582,5336.699231206302,6280.291441834246,7390.722033525775,8697.490026177835,10235.310218990247,12045.035402587811,14174.741629268048,16681.005372000593,19630.406500402685,23101.29700083158,27185.8824273294,31992.671377973846,37649.35806792464,44306.21457583878,52140.082879996844,61359.07273413163,72208.09018385457,84975.34359086439,100000.0],\"y\":[-7.142656520272003,-6.890750202751686,-6.583292499106717,-6.2069132078939475,-5.744992538220211,-5.17708450367088,-4.478477409806386,-3.6201734109963284,-2.569823007856838,-1.2945767363375467,0.23251219879748786,2.0199473479718257,4.035432949730408,6.16949626260456,8.182991150841959,9.646045708808115,9.902543422065314,8.149259147806166,3.7975560434785063,-2.6971258108759426,-8.688533643742794,-9.2115919558491,-0.9100617589082718,9.245016630144066,4.495889633131068,-9.618509290212664,2.214287110596339,4.625958484570376,-6.846774630047905,4.970903117911691,3.0554186170827147,-9.630153185496017,-8.731717195195234,-9.497433599115764,-5.258948583580446,8.483653306672155,1.1298026967352905,-0.3672701689147555,9.056520362195418,3.4706838944406275,9.856268475753643,4.09013469085021,-1.7029450039589582,-9.866653515514084,-2.9192498873753325,9.843677652348335,-9.866529861262167,-8.350155062274588,-9.282389399803115,-7.314168617073018,2.2903332350103196,8.31295587261435,3.944568966116091,-9.459535644267746,9.934692168244647,9.560989211540601,-7.130235478012179,8.26397743405932,-0.19289815393174176,-1.3547471500298718,5.730272280811479,3.1052105863732766,9.35003443022858,5.902095283032892,-9.29331214583634,9.012338893160997,9.405338445929814,-2.3887247827224463,-2.4399012436426544,-9.976584488238379,0.9926951205828258,-0.3806551666965242,6.594366811077885,-1.6893882965211036,-0.8671421687349659,4.3240205366380575,9.995275775489093,0.20202790798141818,3.4029117381161673,0.2531935215559937,-9.339539356331061,4.970856051307301,-7.293553717750594,9.981974505471666,-9.24712634239343,-8.240381923856013,6.8440874513113865,3.358016928914365,7.322435368857989,7.453622146768749,-3.312771667429453,9.36465994839834,-8.977504607926418,1.8513197516597173,-5.737804841751518,-6.844514507458054,-8.570968641668781,8.725600193477678,-9.976047779595419,-9.902290677610656],\"type\":\"scatter\",\"xaxis\":\"x2\",\"yaxis\":\"y2\"}],                        {\"template\":{\"data\":{\"histogram2dcontour\":[{\"type\":\"histogram2dcontour\",\"colorbar\":{\"outlinewidth\":0,\"ticks\":\"\"},\"colorscale\":[[0.0,\"#0d0887\"],[0.1111111111111111,\"#46039f\"],[0.2222222222222222,\"#7201a8\"],[0.3333333333333333,\"#9c179e\"],[0.4444444444444444,\"#bd3786\"],[0.5555555555555556,\"#d8576b\"],[0.6666666666666666,\"#ed7953\"],[0.7777777777777778,\"#fb9f3a\"],[0.8888888888888888,\"#fdca26\"],[1.0,\"#f0f921\"]]}],\"choropleth\":[{\"type\":\"choropleth\",\"colorbar\":{\"outlinewidth\":0,\"ticks\":\"\"}}],\"histogram2d\":[{\"type\":\"histogram2d\",\"colorbar\":{\"outlinewidth\":0,\"ticks\":\"\"},\"colorscale\":[[0.0,\"#0d0887\"],[0.1111111111111111,\"#46039f\"],[0.2222222222222222,\"#7201a8\"],[0.3333333333333333,\"#9c179e\"],[0.4444444444444444,\"#bd3786\"],[0.5555555555555556,\"#d8576b\"],[0.6666666666666666,\"#ed7953\"],[0.7777777777777778,\"#fb9f3a\"],[0.8888888888888888,\"#fdca26\"],[1.0,\"#f0f921\"]]}],\"heatmap\":[{\"type\":\"heatmap\",\"colorbar\":{\"outlinewidth\":0,\"ticks\":\"\"},\"colorscale\":[[0.0,\"#0d0887\"],[0.1111111111111111,\"#46039f\"],[0.2222222222222222,\"#7201a8\"],[0.3333333333333333,\"#9c179e\"],[0.4444444444444444,\"#bd3786\"],[0.5555555555555556,\"#d8576b\"],[0.6666666666666666,\"#ed7953\"],[0.7777777777777778,\"#fb9f3a\"],[0.8888888888888888,\"#fdca26\"],[1.0,\"#f0f921\"]]}],\"heatmapgl\":[{\"type\":\"heatmapgl\",\"colorbar\":{\"outlinewidth\":0,\"ticks\":\"\"},\"colorscale\":[[0.0,\"#0d0887\"],[0.1111111111111111,\"#46039f\"],[0.2222222222222222,\"#7201a8\"],[0.3333333333333333,\"#9c179e\"],[0.4444444444444444,\"#bd3786\"],[0.5555555555555556,\"#d8576b\"],[0.6666666666666666,\"#ed7953\"],[0.7777777777777778,\"#fb9f3a\"],[0.8888888888888888,\"#fdca26\"],[1.0,\"#f0f921\"]]}],\"contourcarpet\":[{\"type\":\"contourcarpet\",\"colorbar\":{\"outlinewidth\":0,\"ticks\":\"\"}}],\"contour\":[{\"type\":\"contour\",\"colorbar\":{\"outlinewidth\":0,\"ticks\":\"\"},\"colorscale\":[[0.0,\"#0d0887\"],[0.1111111111111111,\"#46039f\"],[0.2222222222222222,\"#7201a8\"],[0.3333333333333333,\"#9c179e\"],[0.4444444444444444,\"#bd3786\"],[0.5555555555555556,\"#d8576b\"],[0.6666666666666666,\"#ed7953\"],[0.7777777777777778,\"#fb9f3a\"],[0.8888888888888888,\"#fdca26\"],[1.0,\"#f0f921\"]]}],\"surface\":[{\"type\":\"surface\",\"colorbar\":{\"outlinewidth\":0,\"ticks\":\"\"},\"colorscale\":[[0.0,\"#0d0887\"],[0.1111111111111111,\"#46039f\"],[0.2222222222222222,\"#7201a8\"],[0.3333333333333333,\"#9c179e\"],[0.4444444444444444,\"#bd3786\"],[0.5555555555555556,\"#d8576b\"],[0.6666666666666666,\"#ed7953\"],[0.7777777777777778,\"#fb9f3a\"],[0.8888888888888888,\"#fdca26\"],[1.0,\"#f0f921\"]]}],\"mesh3d\":[{\"type\":\"mesh3d\",\"colorbar\":{\"outlinewidth\":0,\"ticks\":\"\"}}],\"scatter\":[{\"fillpattern\":{\"fillmode\":\"overlay\",\"size\":10,\"solidity\":0.2},\"type\":\"scatter\"}],\"parcoords\":[{\"type\":\"parcoords\",\"line\":{\"colorbar\":{\"outlinewidth\":0,\"ticks\":\"\"}}}],\"scatterpolargl\":[{\"type\":\"scatterpolargl\",\"marker\":{\"colorbar\":{\"outlinewidth\":0,\"ticks\":\"\"}}}],\"bar\":[{\"error_x\":{\"color\":\"#2a3f5f\"},\"error_y\":{\"color\":\"#2a3f5f\"},\"marker\":{\"line\":{\"color\":\"#E5ECF6\",\"width\":0.5},\"pattern\":{\"fillmode\":\"overlay\",\"size\":10,\"solidity\":0.2}},\"type\":\"bar\"}],\"scattergeo\":[{\"type\":\"scattergeo\",\"marker\":{\"colorbar\":{\"outlinewidth\":0,\"ticks\":\"\"}}}],\"scatterpolar\":[{\"type\":\"scatterpolar\",\"marker\":{\"colorbar\":{\"outlinewidth\":0,\"ticks\":\"\"}}}],\"histogram\":[{\"marker\":{\"pattern\":{\"fillmode\":\"overlay\",\"size\":10,\"solidity\":0.2}},\"type\":\"histogram\"}],\"scattergl\":[{\"type\":\"scattergl\",\"marker\":{\"colorbar\":{\"outlinewidth\":0,\"ticks\":\"\"}}}],\"scatter3d\":[{\"type\":\"scatter3d\",\"line\":{\"colorbar\":{\"outlinewidth\":0,\"ticks\":\"\"}},\"marker\":{\"colorbar\":{\"outlinewidth\":0,\"ticks\":\"\"}}}],\"scattermapbox\":[{\"type\":\"scattermapbox\",\"marker\":{\"colorbar\":{\"outlinewidth\":0,\"ticks\":\"\"}}}],\"scatterternary\":[{\"type\":\"scatterternary\",\"marker\":{\"colorbar\":{\"outlinewidth\":0,\"ticks\":\"\"}}}],\"scattercarpet\":[{\"type\":\"scattercarpet\",\"marker\":{\"colorbar\":{\"outlinewidth\":0,\"ticks\":\"\"}}}],\"carpet\":[{\"aaxis\":{\"endlinecolor\":\"#2a3f5f\",\"gridcolor\":\"white\",\"linecolor\":\"white\",\"minorgridcolor\":\"white\",\"startlinecolor\":\"#2a3f5f\"},\"baxis\":{\"endlinecolor\":\"#2a3f5f\",\"gridcolor\":\"white\",\"linecolor\":\"white\",\"minorgridcolor\":\"white\",\"startlinecolor\":\"#2a3f5f\"},\"type\":\"carpet\"}],\"table\":[{\"cells\":{\"fill\":{\"color\":\"#EBF0F8\"},\"line\":{\"color\":\"white\"}},\"header\":{\"fill\":{\"color\":\"#C8D4E3\"},\"line\":{\"color\":\"white\"}},\"type\":\"table\"}],\"barpolar\":[{\"marker\":{\"line\":{\"color\":\"#E5ECF6\",\"width\":0.5},\"pattern\":{\"fillmode\":\"overlay\",\"size\":10,\"solidity\":0.2}},\"type\":\"barpolar\"}],\"pie\":[{\"automargin\":true,\"type\":\"pie\"}]},\"layout\":{\"autotypenumbers\":\"strict\",\"colorway\":[\"#636efa\",\"#EF553B\",\"#00cc96\",\"#ab63fa\",\"#FFA15A\",\"#19d3f3\",\"#FF6692\",\"#B6E880\",\"#FF97FF\",\"#FECB52\"],\"font\":{\"color\":\"#2a3f5f\"},\"hovermode\":\"closest\",\"hoverlabel\":{\"align\":\"left\"},\"paper_bgcolor\":\"white\",\"plot_bgcolor\":\"#E5ECF6\",\"polar\":{\"bgcolor\":\"#E5ECF6\",\"angularaxis\":{\"gridcolor\":\"white\",\"linecolor\":\"white\",\"ticks\":\"\"},\"radialaxis\":{\"gridcolor\":\"white\",\"linecolor\":\"white\",\"ticks\":\"\"}},\"ternary\":{\"bgcolor\":\"#E5ECF6\",\"aaxis\":{\"gridcolor\":\"white\",\"linecolor\":\"white\",\"ticks\":\"\"},\"baxis\":{\"gridcolor\":\"white\",\"linecolor\":\"white\",\"ticks\":\"\"},\"caxis\":{\"gridcolor\":\"white\",\"linecolor\":\"white\",\"ticks\":\"\"}},\"coloraxis\":{\"colorbar\":{\"outlinewidth\":0,\"ticks\":\"\"}},\"colorscale\":{\"sequential\":[[0.0,\"#0d0887\"],[0.1111111111111111,\"#46039f\"],[0.2222222222222222,\"#7201a8\"],[0.3333333333333333,\"#9c179e\"],[0.4444444444444444,\"#bd3786\"],[0.5555555555555556,\"#d8576b\"],[0.6666666666666666,\"#ed7953\"],[0.7777777777777778,\"#fb9f3a\"],[0.8888888888888888,\"#fdca26\"],[1.0,\"#f0f921\"]],\"sequentialminus\":[[0.0,\"#0d0887\"],[0.1111111111111111,\"#46039f\"],[0.2222222222222222,\"#7201a8\"],[0.3333333333333333,\"#9c179e\"],[0.4444444444444444,\"#bd3786\"],[0.5555555555555556,\"#d8576b\"],[0.6666666666666666,\"#ed7953\"],[0.7777777777777778,\"#fb9f3a\"],[0.8888888888888888,\"#fdca26\"],[1.0,\"#f0f921\"]],\"diverging\":[[0,\"#8e0152\"],[0.1,\"#c51b7d\"],[0.2,\"#de77ae\"],[0.3,\"#f1b6da\"],[0.4,\"#fde0ef\"],[0.5,\"#f7f7f7\"],[0.6,\"#e6f5d0\"],[0.7,\"#b8e186\"],[0.8,\"#7fbc41\"],[0.9,\"#4d9221\"],[1,\"#276419\"]]},\"xaxis\":{\"gridcolor\":\"white\",\"linecolor\":\"white\",\"ticks\":\"\",\"title\":{\"standoff\":15},\"zerolinecolor\":\"white\",\"automargin\":true,\"zerolinewidth\":2},\"yaxis\":{\"gridcolor\":\"white\",\"linecolor\":\"white\",\"ticks\":\"\",\"title\":{\"standoff\":15},\"zerolinecolor\":\"white\",\"automargin\":true,\"zerolinewidth\":2},\"scene\":{\"xaxis\":{\"backgroundcolor\":\"#E5ECF6\",\"gridcolor\":\"white\",\"linecolor\":\"white\",\"showbackground\":true,\"ticks\":\"\",\"zerolinecolor\":\"white\",\"gridwidth\":2},\"yaxis\":{\"backgroundcolor\":\"#E5ECF6\",\"gridcolor\":\"white\",\"linecolor\":\"white\",\"showbackground\":true,\"ticks\":\"\",\"zerolinecolor\":\"white\",\"gridwidth\":2},\"zaxis\":{\"backgroundcolor\":\"#E5ECF6\",\"gridcolor\":\"white\",\"linecolor\":\"white\",\"showbackground\":true,\"ticks\":\"\",\"zerolinecolor\":\"white\",\"gridwidth\":2}},\"shapedefaults\":{\"line\":{\"color\":\"#2a3f5f\"}},\"annotationdefaults\":{\"arrowcolor\":\"#2a3f5f\",\"arrowhead\":0,\"arrowwidth\":1},\"geo\":{\"bgcolor\":\"white\",\"landcolor\":\"#E5ECF6\",\"subunitcolor\":\"white\",\"showland\":true,\"showlakes\":true,\"lakecolor\":\"white\"},\"title\":{\"x\":0.05},\"mapbox\":{\"style\":\"light\"}}},\"xaxis\":{\"anchor\":\"y\",\"domain\":[0.0,1.0],\"type\":\"linear\",\"title\":{\"text\":\"Linear\"}},\"yaxis\":{\"anchor\":\"x\",\"domain\":[0.575,1.0],\"title\":{\"text\":\"F1\"}},\"xaxis2\":{\"anchor\":\"y2\",\"domain\":[0.0,1.0],\"type\":\"log\",\"title\":{\"text\":\"Logaritmica\"}},\"yaxis2\":{\"anchor\":\"x2\",\"domain\":[0.0,0.425],\"title\":{\"text\":\"F2\"}}},                        {\"responsive\": true}                    ).then(function(){\n",
              "                            \n",
              "var gd = document.getElementById('928e10f2-974f-4bd7-99dc-3bb40410bdc3');\n",
              "var x = new MutationObserver(function (mutations, observer) {{\n",
              "        var display = window.getComputedStyle(gd).display;\n",
              "        if (!display || display === 'none') {{\n",
              "            console.log([gd, 'removed!']);\n",
              "            Plotly.purge(gd);\n",
              "            observer.disconnect();\n",
              "        }}\n",
              "}});\n",
              "\n",
              "// Listen for the removal of the full notebook cells\n",
              "var notebookContainer = gd.closest('#notebook-container');\n",
              "if (notebookContainer) {{\n",
              "    x.observe(notebookContainer, {childList: true});\n",
              "}}\n",
              "\n",
              "// Listen for the clearing of the current output cell\n",
              "var outputEl = gd.closest('.output');\n",
              "if (outputEl) {{\n",
              "    x.observe(outputEl, {childList: true});\n",
              "}}\n",
              "\n",
              "                        })                };                            </script>        </div>\n",
              "</body>\n",
              "</html>"
            ]
          },
          "metadata": {}
        }
      ]
    },
    {
      "cell_type": "markdown",
      "source": [
        "## Item 4\n",
        "\n"
      ],
      "metadata": {
        "id": "S1-8t7G_sc8d"
      }
    },
    {
      "cell_type": "code",
      "source": [
        "import pandas as pd\n",
        "tabela=pd.DataFrame({ \n",
        "    'x1':[2,4,1],\n",
        "    'x2':[3,-1,3],\n",
        "    's1':[1,0,0],\n",
        "    's2':[0,1,0],\n",
        "    'b':[20,12,0],},\n",
        "    index=['s1', 's2', 'Z'])\n",
        "\n",
        "tabela.columns.name='Base'\n",
        "display(tabela)\n",
        "\n",
        "tabela.to_excel(\"Tabela.xlsx\")\n"
      ],
      "metadata": {
        "id": "ofeDXEhUsfRl"
      },
      "execution_count": null,
      "outputs": []
    }
  ]
}